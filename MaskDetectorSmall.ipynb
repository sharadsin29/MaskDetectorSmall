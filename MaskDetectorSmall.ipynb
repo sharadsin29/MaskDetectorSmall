{
 "cells": [
  {
   "cell_type": "code",
   "execution_count": 51,
   "metadata": {},
   "outputs": [
    {
     "data": {
      "text/html": [
       "<!DOCTYPE html>\n",
       "<html>\n",
       "<head>\n",
       "<style>\n",
       "h1{color: #03A062;font-size:100% ;text-align: center;}\n",
       "h3{color: #03A062;}\n",
       "p{color: #03A062;}\n",
       "</style>\n",
       "</head>\n",
       "<body>\n",
       "\n",
       "<h1>Mask Detector</h1>\n",
       "<h3>Detect whether a person is wearing a mask or not. It will <b>not</b> give sensible results for pictures without a human face.</h3>\n",
       "<p>Upload the Photo!</p>\n",
       "</body>\n",
       "</html>\n"
      ],
      "text/plain": [
       "<IPython.core.display.HTML object>"
      ]
     },
     "metadata": {},
     "output_type": "display_data"
    }
   ],
   "source": [
    "%%html\n",
    "<!DOCTYPE html>\n",
    "<html>\n",
    "<head>\n",
    "<style>\n",
    "h1{color: #03A062;font-size:100% ;text-align: center;}\n",
    "h3{color: #03A062;}\n",
    "p{color: #03A062;}\n",
    "</style>\n",
    "</head>\n",
    "<body>\n",
    "\n",
    "<h1>Mask Detector</h1>\n",
    "<h3>Detect whether a person is wearing a mask or not. It will <b>not</b> give sensible results for pictures without a human face.</h3>\n",
    "<p>Upload the Photo!</p>\n",
    "</body>\n",
    "</html>"
   ]
  },
  {
   "cell_type": "code",
   "execution_count": 23,
   "metadata": {},
   "outputs": [],
   "source": [
    "# from fastai import __version__\n",
    "# print(__version__)"
   ]
  },
  {
   "cell_type": "code",
   "execution_count": 24,
   "metadata": {},
   "outputs": [],
   "source": [
    "# !jupyter serverextension enable --sys-prefix voila"
   ]
  },
  {
   "cell_type": "code",
   "execution_count": 25,
   "metadata": {},
   "outputs": [],
   "source": [
    "#from fastbook import *"
   ]
  },
  {
   "cell_type": "code",
   "execution_count": 26,
   "metadata": {},
   "outputs": [],
   "source": [
    "from fastai.vision.all import *\n",
    "from fastai.vision.widgets import *"
   ]
  },
  {
   "cell_type": "code",
   "execution_count": 32,
   "metadata": {},
   "outputs": [],
   "source": [
    "# import pathlib\n",
    "# temp = pathlib.PosixPath\n",
    "# pathlib.PosixPath = pathlib.WindowsPath"
   ]
  },
  {
   "cell_type": "code",
   "execution_count": 30,
   "metadata": {},
   "outputs": [],
   "source": [
    "# fix failure to preserve metadata in multiprocessing in DataLoader\n",
    "def _rebuild_from_type(func, type, args, dict):\n",
    "    ret = func(*args).as_subclass(type)\n",
    "    ret.__dict__ = dict\n",
    "    return ret\n",
    "\n",
    "@patch\n",
    "def __reduce_ex__(self: TensorBase, proto):\n",
    "    from fastai.torch_core import _fa_rebuild_qtensor, _fa_rebuild_tensor\n",
    "    torch.utils.hooks.warn_if_has_hooks(self)\n",
    "    args = (type(self), self.storage(), self.storage_offset(), tuple(self.size()), self.stride())\n",
    "    if self.is_quantized: args = args + (self.q_scale(), self.q_zero_point())\n",
    "    args = args + (self.requires_grad, OrderedDict())\n",
    "    f = _fa_rebuild_qtensor if self.is_quantized else  _fa_rebuild_tensor\n",
    "    return (_rebuild_from_type, (f, type(self), args, self.__dict__))"
   ]
  },
  {
   "cell_type": "code",
   "execution_count": 33,
   "metadata": {},
   "outputs": [],
   "source": [
    "learn_inf = load_learner('export.pkl', cpu=True)"
   ]
  },
  {
   "cell_type": "code",
   "execution_count": 34,
   "metadata": {},
   "outputs": [],
   "source": [
    "def on_data_change2(change):\n",
    "    #lbl_pred.value = ''\n",
    "    img1 = PILImage.create(btn_upload.data[-1])\n",
    "    out_pl.clear_output()\n",
    "    with out_pl: display(img1.to_thumb(256,256))\n",
    "    pred,pred_idx,probs = learn_inf.predict(img1)\n",
    "    lbl_pred.value = f'Prediction: {pred}; Probability: {probs[pred_idx]:.04f}'"
   ]
  },
  {
   "cell_type": "code",
   "execution_count": 38,
   "metadata": {},
   "outputs": [
    {
     "data": {
      "application/vnd.jupyter.widget-view+json": {
       "model_id": "7595c4aeec2d49c182c929d36302f0b5",
       "version_major": 2,
       "version_minor": 0
      },
      "text/plain": [
       "VBox(children=(HTML(value='\\n    <p>Detect whether a person is wearing a mask or not. It will <b>not</b> give …"
      ]
     },
     "metadata": {},
     "output_type": "display_data"
    }
   ],
   "source": [
    "btn_upload = widgets.FileUpload(accept='.jpg,.jpeg',multiple=False)\n",
    "out_pl = widgets.Output()\n",
    "lbl_pred = widgets.Label()\n",
    "btn_upload.observe(on_data_change2, names=['data'])\n",
    "display(VBox([btn_upload,out_pl,lbl_pred ]))"
   ]
  },
  {
   "cell_type": "code",
   "execution_count": null,
   "metadata": {},
   "outputs": [],
   "source": []
  }
 ],
 "metadata": {
  "kernelspec": {
   "display_name": "Python 3",
   "language": "python",
   "name": "python3"
  },
  "language_info": {
   "codemirror_mode": {
    "name": "ipython",
    "version": 3
   },
   "file_extension": ".py",
   "mimetype": "text/x-python",
   "name": "python",
   "nbconvert_exporter": "python",
   "pygments_lexer": "ipython3",
   "version": "3.8.3"
  }
 },
 "nbformat": 4,
 "nbformat_minor": 4
}
