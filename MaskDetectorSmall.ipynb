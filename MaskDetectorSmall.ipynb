{
 "cells": [
  {
   "cell_type": "code",
   "execution_count": 10,
   "metadata": {},
   "outputs": [
    {
     "name": "stdout",
     "output_type": "stream",
     "text": [
      "2.5.2\n"
     ]
    }
   ],
   "source": [
    "# from fastai import __version__\n",
    "# print(__version__)"
   ]
  },
  {
   "cell_type": "code",
   "execution_count": 1,
   "metadata": {},
   "outputs": [
    {
     "name": "stderr",
     "output_type": "stream",
     "text": [
      "Enabling: voila\n",
      "- Writing config: C:\\Users\\SHARAD\\anaconda3\\etc\\jupyter\n",
      "    - Validating...\n",
      "      voila 0.2.16 ok\n"
     ]
    }
   ],
   "source": [
    "# !jupyter serverextension enable --sys-prefix voila"
   ]
  },
  {
   "cell_type": "code",
   "execution_count": 2,
   "metadata": {},
   "outputs": [],
   "source": [
    "#from fastbook import *"
   ]
  },
  {
   "cell_type": "code",
   "execution_count": 3,
   "metadata": {},
   "outputs": [],
   "source": [
    "from fastai.vision.all import *\n",
    "from fastai.vision.widgets import *"
   ]
  },
  {
   "cell_type": "code",
   "execution_count": 3,
   "metadata": {},
   "outputs": [],
   "source": [
    "# from ipywidgets import *"
   ]
  },
  {
   "cell_type": "code",
   "execution_count": 5,
   "metadata": {},
   "outputs": [],
   "source": [
    "# import torch\n",
    "# import fastai"
   ]
  },
  {
   "cell_type": "code",
   "execution_count": 5,
   "metadata": {},
   "outputs": [],
   "source": [
    "# import pathlib\n",
    "# temp = pathlib.PosixPath\n",
    "# pathlib.PosixPath = pathlib.WindowsPath"
   ]
  },
  {
   "cell_type": "code",
   "execution_count": 6,
   "metadata": {},
   "outputs": [],
   "source": [
    "# fix failure to preserve metadata in multiprocessing in DataLoader\n",
    "def _rebuild_from_type(func, type, args, dict):\n",
    "    ret = func(*args).as_subclass(type)\n",
    "    ret.__dict__ = dict\n",
    "    return ret\n",
    "\n",
    "@patch\n",
    "def __reduce_ex__(self: TensorBase, proto):\n",
    "    from fastai.torch_core import _fa_rebuild_qtensor, _fa_rebuild_tensor\n",
    "    torch.utils.hooks.warn_if_has_hooks(self)\n",
    "    args = (type(self), self.storage(), self.storage_offset(), tuple(self.size()), self.stride())\n",
    "    if self.is_quantized: args = args + (self.q_scale(), self.q_zero_point())\n",
    "    args = args + (self.requires_grad, OrderedDict())\n",
    "    f = _fa_rebuild_qtensor if self.is_quantized else  _fa_rebuild_tensor\n",
    "    return (_rebuild_from_type, (f, type(self), args, self.__dict__))"
   ]
  },
  {
   "cell_type": "code",
   "execution_count": 7,
   "metadata": {},
   "outputs": [],
   "source": [
    "learn_inf = load_learner('export.pkl', cpu=True)"
   ]
  },
  {
   "cell_type": "code",
   "execution_count": 8,
   "metadata": {},
   "outputs": [],
   "source": [
    "def on_data_change2(change):\n",
    "    lbl_pred.value = ''\n",
    "    img1 = PILImage.create(btn_upload.data[-1])\n",
    "    out_pl.clear_output()\n",
    "    with out_pl: display(img1.to_thumb(128,128))\n",
    "    pred,pred_idx,probs = learn_inf.predict(img1)\n",
    "    lbl_pred.value = f'Prediction: {pred}; Probability: {probs[pred_idx]:.04f}'"
   ]
  },
  {
   "cell_type": "code",
   "execution_count": 12,
   "metadata": {},
   "outputs": [
    {
     "data": {
      "application/vnd.jupyter.widget-view+json": {
       "model_id": "7aa37cd398e449e18e5e3d478e821439",
       "version_major": 2,
       "version_minor": 0
      },
      "text/plain": [
       "VBox(children=(HTML(value='\\n    <h1><b>Mask Detector</b></h1>\\n    <p>Detect whether a person is wearing a ma…"
      ]
     },
     "metadata": {},
     "output_type": "display_data"
    },
    {
     "data": {
      "text/html": [],
      "text/plain": [
       "<IPython.core.display.HTML object>"
      ]
     },
     "metadata": {},
     "output_type": "display_data"
    }
   ],
   "source": [
    "xx =widgets.HTML(\n",
    "    value=\"\"\"\n",
    "    <h1><b>Mask Detector</b></h1>\n",
    "    <p>Detect whether a person is wearing a mask or not. It will <b>not</b> give sensible results for pictures without a human face.</p>\n",
    "    \"\"\"\n",
    ")\n",
    "btn_upload = widgets.FileUpload(accept='.jpg,.jpeg',multiple=False)\n",
    "out_pl = widgets.Output()\n",
    "lbl_pred = widgets.Label()\n",
    "lbl_pred2 = widgets.Label()\n",
    "lbl_pred2.value=str(learn_inf.dls.vocab)\n",
    "btn_upload.observe(on_data_change2, names=['data'])\n",
    "display(VBox([xx,widgets.Label('Upload the Photo!'), btn_upload, lbl_pred,lbl_pred2,out_pl ]))"
   ]
  },
  {
   "cell_type": "code",
   "execution_count": null,
   "metadata": {},
   "outputs": [],
   "source": []
  }
 ],
 "metadata": {
  "kernelspec": {
   "display_name": "Python 3",
   "language": "python",
   "name": "python3"
  },
  "language_info": {
   "codemirror_mode": {
    "name": "ipython",
    "version": 3
   },
   "file_extension": ".py",
   "mimetype": "text/x-python",
   "name": "python",
   "nbconvert_exporter": "python",
   "pygments_lexer": "ipython3",
   "version": "3.8.3"
  }
 },
 "nbformat": 4,
 "nbformat_minor": 4
}
